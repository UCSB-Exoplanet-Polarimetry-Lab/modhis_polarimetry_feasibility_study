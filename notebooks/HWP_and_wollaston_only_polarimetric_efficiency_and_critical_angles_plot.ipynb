{
 "cells": [],
 "metadata": {
  "kernelspec": {
   "display_name": "modhis_pol_sim",
   "language": "python",
   "name": "python3"
  },
  "language_info": {
   "name": "python",
   "version": "3.10.18"
  }
 },
 "nbformat": 4,
 "nbformat_minor": 5
}
