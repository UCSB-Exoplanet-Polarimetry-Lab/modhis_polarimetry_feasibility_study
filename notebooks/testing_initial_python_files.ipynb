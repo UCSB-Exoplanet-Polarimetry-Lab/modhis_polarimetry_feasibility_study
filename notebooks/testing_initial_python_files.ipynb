{
 "cells": [
  {
   "cell_type": "code",
   "execution_count": 1,
   "metadata": {},
   "outputs": [
    {
     "name": "stdout",
     "output_type": "stream",
     "text": [
      "<pyMuellerMat.common_mms.ArbitraryMatrix object at 0x7f6146726530>\n",
      "o stokes: [[0.6428]\n",
      " [0.6428]\n",
      " [0.    ]\n",
      " [0.    ]]\n",
      "e stokes: [[ 0.34165133]\n",
      " [-0.34165133]\n",
      " [ 0.        ]\n",
      " [ 0.        ]]\n",
      "o intensity: 0.6427999999999999\n",
      "e intensity: 0.341651328\n"
     ]
    },
    {
     "ename": "ValueError",
     "evalue": "not enough values to unpack (expected 6, got 3)",
     "output_type": "error",
     "traceback": [
      "\u001b[0;31m---------------------------------------------------------------------------\u001b[0m",
      "\u001b[0;31mValueError\u001b[0m                                Traceback (most recent call last)",
      "Cell \u001b[0;32mIn[1], line 13\u001b[0m\n\u001b[1;32m     11\u001b[0m Q_in \u001b[38;5;241m=\u001b[39m \u001b[38;5;241m0.3\u001b[39m\n\u001b[1;32m     12\u001b[0m U_in \u001b[38;5;241m=\u001b[39m \u001b[38;5;241m0.7\u001b[39m\n\u001b[0;32m---> 13\u001b[0m Q_out, U_out, Q_wollaston_and_HWP, U_wollaston_and_HWP, intensities, \\\n\u001b[1;32m     14\u001b[0m         intensities_wollaston_and_HWP \u001b[38;5;241m=\u001b[39m instrument_mm\u001b[38;5;241m.\u001b[39mcalculate_Q_and_U(Q \u001b[38;5;241m=\u001b[39m Q_in, \n\u001b[1;32m     15\u001b[0m     U \u001b[38;5;241m=\u001b[39m U_in, pa \u001b[38;5;241m=\u001b[39m \u001b[38;5;241m0\u001b[39m, altitude \u001b[38;5;241m=\u001b[39m \u001b[38;5;241m0\u001b[39m, delta_HWP \u001b[38;5;241m=\u001b[39m \u001b[38;5;241m0.5\u001b[39m, normalize \u001b[38;5;241m=\u001b[39m \u001b[38;5;28;01mTrue\u001b[39;00m)\n\u001b[1;32m     17\u001b[0m \u001b[38;5;28mprint\u001b[39m(\u001b[38;5;124m\"\u001b[39m\u001b[38;5;124mQ: \u001b[39m\u001b[38;5;124m\"\u001b[39m \u001b[38;5;241m+\u001b[39m \u001b[38;5;28mstr\u001b[39m(Q_out))\n\u001b[1;32m     18\u001b[0m \u001b[38;5;28mprint\u001b[39m(\u001b[38;5;124m\"\u001b[39m\u001b[38;5;124mU: \u001b[39m\u001b[38;5;124m\"\u001b[39m \u001b[38;5;241m+\u001b[39m \u001b[38;5;28mstr\u001b[39m(U_out))\n",
      "\u001b[0;31mValueError\u001b[0m: not enough values to unpack (expected 6, got 3)"
     ]
    }
   ],
   "source": [
    "import sys\n",
    "sys.path.insert(0, '../python/')\n",
    "import angles\n",
    "import instrument_mm\n",
    "import stokes\n",
    "import numpy as np\n",
    "from pyMuellerMat import common_mms as cmm\n",
    "\n",
    "HWP_angs = np.array([0, 22.5, 45, 67.5])\n",
    "print(cmm.ArbitraryMatrix(name = \"TMT\"))\n",
    "Q_in = 0.3\n",
    "U_in = 0.7\n",
    "Q_out, U_out, Q_wollaston_and_HWP, U_wollaston_and_HWP, intensities, \\\n",
    "        intensities_wollaston_and_HWP = instrument_mm.calculate_Q_and_U(Q = Q_in, \n",
    "    U = U_in, pa = 0, altitude = 0, delta_HWP = 0.5, normalize = True)\n",
    "\n",
    "print(\"Q: \" + str(Q_out))\n",
    "print(\"U: \" + str(U_out))\n",
    "print(\"Q (Only Wollaston and HWP): \" + str(Q_wollaston_and_HWP))\n",
    "print(\"U (Only Wollaston and HWP): \" + str(U_wollaston_and_HWP))\n",
    "# print(intensities_wollaston_and_HWP)\n",
    "\n",
    "print(intensities)\n",
    "print(intensities_wollaston_and_HWP)"
   ]
  },
  {
   "cell_type": "code",
   "execution_count": null,
   "metadata": {},
   "outputs": [],
   "source": []
  }
 ],
 "metadata": {
  "kernelspec": {
   "display_name": "vampires_calibration_py310",
   "language": "python",
   "name": "vampires_calibration_py310"
  },
  "language_info": {
   "codemirror_mode": {
    "name": "ipython",
    "version": 3
   },
   "file_extension": ".py",
   "mimetype": "text/x-python",
   "name": "python",
   "nbconvert_exporter": "python",
   "pygments_lexer": "ipython3",
   "version": "3.10.15"
  }
 },
 "nbformat": 4,
 "nbformat_minor": 2
}
