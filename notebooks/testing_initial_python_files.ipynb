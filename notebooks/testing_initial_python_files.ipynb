{
 "cells": [
  {
   "cell_type": "code",
   "execution_count": 2,
   "metadata": {},
   "outputs": [
    {
     "name": "stdout",
     "output_type": "stream",
     "text": [
      "0.65\n",
      "Q: 0.3\n",
      "U: 0.7\n",
      "Q (Only Wollaston and HWP): 0.3\n",
      "U (Only Wollaston and HWP): 0.7\n",
      "[[0.65 0.85 0.35 0.15]\n",
      " [0.35 0.15 0.65 0.85]]\n",
      "[[0.65 0.85 0.35 0.15]\n",
      " [0.35 0.15 0.65 0.85]]\n"
     ]
    }
   ],
   "source": [
    "import sys\n",
    "sys.path.insert(0, '../python/')\n",
    "import angles\n",
    "import instrument_mm\n",
    "import stokes\n",
    "import numpy as np\n",
    "\n",
    "HWP_angs = np.array([0, 22.5, 45, 67.5])\n",
    "\n",
    "Q_in = 0.3\n",
    "U_in = 0.7\n",
    "Q_out, U_out, Q_wollaston_and_HWP, U_wollaston_and_HWP, intensities, \\\n",
    "        intensities_wollaston_and_HWP = instrument_mm.calculate_Q_and_U(Q = Q_in, \n",
    "    U = U_in, pa = 0, altitude = 0, delta_HWP = 0.5, normalize = True)\n",
    "\n",
    "print(\"Q: \" + str(Q_out))\n",
    "print(\"U: \" + str(U_out))\n",
    "print(\"Q (Only Wollaston and HWP): \" + str(Q_wollaston_and_HWP))\n",
    "print(\"U (Only Wollaston and HWP): \" + str(U_wollaston_and_HWP))\n",
    "# print(intensities_wollaston_and_HWP)\n",
    "\n",
    "print(intensities)\n",
    "print(intensities_wollaston_and_HWP)"
   ]
  },
  {
   "cell_type": "code",
   "execution_count": null,
   "metadata": {},
   "outputs": [],
   "source": []
  }
 ],
 "metadata": {
  "kernelspec": {
   "display_name": "vampires_calibration_py310",
   "language": "python",
   "name": "vampires_calibration_py310"
  },
  "language_info": {
   "codemirror_mode": {
    "name": "ipython",
    "version": 3
   },
   "file_extension": ".py",
   "mimetype": "text/x-python",
   "name": "python",
   "nbconvert_exporter": "python",
   "pygments_lexer": "ipython3",
   "version": "3.10.15"
  }
 },
 "nbformat": 4,
 "nbformat_minor": 2
}
